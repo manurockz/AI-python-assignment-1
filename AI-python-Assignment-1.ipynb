{
 "cells": [
  {
   "attachments": {},
   "cell_type": "markdown",
   "metadata": {},
   "source": [
    "# 1. develop a code for below scenario\n",
    "<img src=\"wheel.png\">"
   ]
  },
  {
   "cell_type": "code",
   "execution_count": 1,
   "metadata": {},
   "outputs": [
    {
     "name": "stdout",
     "output_type": "stream",
     "text": [
      "enter a number between 0 and 11:10\n",
      "horse\n"
     ]
    }
   ],
   "source": [
    "x=int(input('enter a number between 0 and 11:'))\n",
    "y=x%12\n",
    "if y==0:\n",
    "  print(\"monkey\")\n",
    "elif y==1:\n",
    "  print(\"rooster\")\n",
    "elif y==2:\n",
    "  print(\"dog\")\n",
    "elif y==3:\n",
    "  print(\"pig\")\n",
    "elif y==4:\n",
    "  print(\"rat\")\n",
    "elif y==5:\n",
    "  print(\"ox\")\n",
    "elif y==6:\n",
    "  print(\"tiger\")\n",
    "elif y==7:\n",
    "  print(\"rabbit\")\n",
    "elif y==8:\n",
    "  print(\"dragon\")\n",
    "elif y==9:\n",
    "  print(\"snake\")\n",
    "elif y==10:\n",
    "  print(\"horse\")\n",
    "elif y==11:\n",
    "  print(\"sheep\")"
   ]
  },
  {
   "attachments": {},
   "cell_type": "markdown",
   "metadata": {},
   "source": [
    "# 2.A Quick Fox Transport Co. wants to develop an application for calculating amount based on distance and weight of goods. The charges (Amount) to be calculated as per rates given below. \n",
    "<img src=\"table.png\">"
   ]
  },
  {
   "cell_type": "code",
   "execution_count": 2,
   "metadata": {},
   "outputs": [
    {
     "name": "stdout",
     "output_type": "stream",
     "text": [
      "Distance to be travel :150\n",
      "Weight of the goods :200\n",
      "Amount to be charged 1200.0/-\n"
     ]
    }
   ],
   "source": [
    "x=float(input(\"Distance to be travel :\"))\n",
    "y=float(input(\"Weight of the goods :\"))\n",
    "if (x>=500):\n",
    "  if (y>=100):\n",
    "    x=x*5\n",
    "  elif (y>=10 and y<100):\n",
    "    x=x*6\n",
    "  elif (y<10):\n",
    "    x=x*7\n",
    "elif (x<500):\n",
    "  if (y>=100):\n",
    "    x=x*8\n",
    "  elif (y<100):\n",
    "    x=x*5\n",
    "print(\"Amount to be charged {}{}\".format(x,'/-'));"
   ]
  },
  {
   "cell_type": "markdown",
   "metadata": {},
   "source": [
    "# 3.\tThe Entertainment Paradise\n",
    "\n",
    "#  A theater in Delhi wants to develop a computerized Booking System. The theater offers different types of seats. The Ticket rates are- Stalls- Rs. 625/-, Circle- Rs.750/-, Upper Class- Rs.850/- and Box- Rs.1000/-. A discount is given 10% of total amount if tickets are purchased on Cash. In case of credit card holders 5% discount is given. \n",
    "\n",
    "# solution\n"
   ]
  },
  {
   "cell_type": "code",
   "execution_count": 3,
   "metadata": {},
   "outputs": [
    {
     "name": "stdout",
     "output_type": "stream",
     "text": [
      "Type of Seat :circle\n",
      "Payment mode:credit card\n",
      "Cost of ticket: 0.0\n"
     ]
    }
   ],
   "source": [
    "x=input(\"Type of Seat :\")\n",
    "y=input(\"Payment mode:\")\n",
    "z=0\n",
    "a=0\n",
    "if x == \"Stalls\":\n",
    "  z=625\n",
    "elif x == \"Circle\":\n",
    "  z=750\n",
    "elif x == \"Upper class\":\n",
    "  z=850\n",
    "elif x == \"Box\":\n",
    "  z=1000\n",
    "\n",
    "if y == \"cash\":\n",
    "  a=10\n",
    "elif y == \"credit card\":\n",
    "  a=5\n",
    "else:\n",
    "  a=0\n",
    "\n",
    "\n",
    "d=z-(z*(a/100))\n",
    "print('Cost of ticket: {}'.format(d))"
   ]
  },
  {
   "cell_type": "markdown",
   "metadata": {},
   "source": [
    "# 4. Develop a program that calculates the energy needed to heat water from an initial temperature to a final temperature. Your program should prompt the user to enter the amount of water in kilograms and the initial and final temperatures of the water. The formula to compute the energy is \n",
    "# Q = M * (finalTemperature – initialTemperature) * 4184.\n",
    "# where M is the weight of water in kilograms, temperatures are in degrees Celsius,  and energy Q is measured in joules.\n"
   ]
  },
  {
   "cell_type": "code",
   "execution_count": null,
   "metadata": {},
   "outputs": [],
   "source": [
    "M=int(input('enter weight of water in kilograms:'))\n",
    "FT,IT=input('enter final and initial temperature seperated by space:').split()\n",
    "FT=int(FT)\n",
    "IT=int(IT)\n",
    "Q=M*(FT-IT)*4184\n",
    "print('energy required to heat water from {} to {} is {} joules'.format(IT,FT,Q))"
   ]
  },
  {
   "cell_type": "markdown",
   "metadata": {},
   "source": [
    "# 5.\tDevelop a program that prompts user to enter month and  print \n",
    "# a.\t“Winter ” -   December ,January and February\n",
    "# b.\t“Spring”  -   March ,April and May\n",
    "# c.\t“Summer”  --- June ,July, August\n",
    "# d.\t“Autumn ”  -- September ,October, November\n"
   ]
  },
  {
   "cell_type": "code",
   "execution_count": null,
   "metadata": {},
   "outputs": [],
   "source": [
    "month=input(\"enter month : (Note :first letter is capital): \")\n",
    "if month==\"December\" or month==\"January\" or month==\"February\":\n",
    "  print(\"Winter\")\n",
    "elif month==\"March\" or month==\"April\" or month==\"May\":\n",
    "  print(\"Spring\")\n",
    "elif month==\"June\" or month==\"July\" or month==\"August\":\n",
    "  print(\"Summer\")\n",
    "elif month==\"September\" or month==\"October\" or month==\"November\":\n",
    "  print(\"Autumn\")"
   ]
  },
  {
   "cell_type": "markdown",
   "metadata": {},
   "source": [
    "# 6. write a program that prompts the user to enter weight in pounds and height in inches and displays the BMI."
   ]
  },
  {
   "cell_type": "code",
   "execution_count": null,
   "metadata": {},
   "outputs": [],
   "source": [
    " weight=int(input('enter your weight in pounds: '))\n",
    "height=int(input('enter you weight in inches: '))\n",
    "#converting pounds to kgs\n",
    "weight=float(weight*0.45359237)\n",
    "#converting inches to metres\n",
    "height=float(height*0.254)\n",
    "bmi=round(weight/height**2,1)\n",
    "print('according to bmi you are',end=' ')\n",
    "if (bmi<18.5):\n",
    "    print('UnderWeight')\n",
    "elif (18.5 <= bmi <= 25.5):\n",
    "    print('Normal')\n",
    "elif (25.5<=bmi<=30.0):\n",
    "    print('Overweight')\n",
    "elif (30.0<=bmi):\n",
    "    print('Obuse')\n"
   ]
  },
  {
   "cell_type": "markdown",
   "metadata": {},
   "source": [
    "# 7.\tWrite a program that reads an integer between 100 and 1000 and adds all the digits in the integer \n"
   ]
  },
  {
   "cell_type": "code",
   "execution_count": null,
   "metadata": {},
   "outputs": [],
   "source": [
    "integer=int(input())\n",
    "if (integer<100 or integer>1000):\n",
    "  print('invalid integer')\n",
    "else:\n",
    "  b=int(integer)\n",
    "  r=0\n",
    "  s=0\n",
    "  while b!=0:\n",
    "    r=b%10\n",
    "    s+=r\n",
    "    b=int(b/10)\n",
    "  print('sum of digits of integer is :',s)"
   ]
  },
  {
   "cell_type": "markdown",
   "metadata": {},
   "source": [
    "# 8.\tPrint all palindrome numbers between 1 to 1000."
   ]
  },
  {
   "cell_type": "code",
   "execution_count": 7,
   "metadata": {},
   "outputs": [
    {
     "name": "stdout",
     "output_type": "stream",
     "text": [
      "palindrome numbers between 1 to 1000 are: \n",
      "1\n",
      "2\n",
      "3\n",
      "4\n",
      "5\n",
      "6\n",
      "7\n",
      "8\n",
      "9\n",
      "11\n",
      "22\n",
      "33\n",
      "44\n",
      "55\n",
      "66\n",
      "77\n",
      "88\n",
      "99\n",
      "101\n",
      "111\n",
      "121\n",
      "131\n",
      "141\n",
      "151\n",
      "161\n",
      "171\n",
      "181\n",
      "191\n",
      "202\n",
      "212\n",
      "222\n",
      "232\n",
      "242\n",
      "252\n",
      "262\n",
      "272\n",
      "282\n",
      "292\n",
      "303\n",
      "313\n",
      "323\n",
      "333\n",
      "343\n",
      "353\n",
      "363\n",
      "373\n",
      "383\n",
      "393\n",
      "404\n",
      "414\n",
      "424\n",
      "434\n",
      "444\n",
      "454\n",
      "464\n",
      "474\n",
      "484\n",
      "494\n",
      "505\n",
      "515\n",
      "525\n",
      "535\n",
      "545\n",
      "555\n",
      "565\n",
      "575\n",
      "585\n",
      "595\n",
      "606\n",
      "616\n",
      "626\n",
      "636\n",
      "646\n",
      "656\n",
      "666\n",
      "676\n",
      "686\n",
      "696\n",
      "707\n",
      "717\n",
      "727\n",
      "737\n",
      "747\n",
      "757\n",
      "767\n",
      "777\n",
      "787\n",
      "797\n",
      "808\n",
      "818\n",
      "828\n",
      "838\n",
      "848\n",
      "858\n",
      "868\n",
      "878\n",
      "888\n",
      "898\n",
      "909\n",
      "919\n",
      "929\n",
      "939\n",
      "949\n",
      "959\n",
      "969\n",
      "979\n",
      "989\n",
      "999\n"
     ]
    }
   ],
   "source": [
    "import math\n",
    "print('palindrome numbers between 1 to 1000 are: ')\n",
    "for i in range(1,10):\n",
    "    print(i)\n",
    "else:\n",
    "    print('11')\n",
    "for i in range(12,1001):\n",
    "    r=0\n",
    "    b=i\n",
    "    s=0\n",
    "    while b!=0:\n",
    "        r=b%10\n",
    "        s=(s*10)+r\n",
    "        b=math.floor(b/10)\n",
    "    if (s==i):\n",
    "        print(i)\n",
    "   "
   ]
  },
  {
   "cell_type": "markdown",
   "metadata": {},
   "source": [
    "# 9.\tPrint all Armstrong numbers between 1 to 1000. "
   ]
  },
  {
   "cell_type": "code",
   "execution_count": 6,
   "metadata": {},
   "outputs": [
    {
     "name": "stdout",
     "output_type": "stream",
     "text": [
      "armstrong numbers between 1 to 1000 are: \n",
      "1\n",
      "153\n",
      "370\n",
      "371\n",
      "407\n"
     ]
    }
   ],
   "source": [
    "import math\n",
    "print('armstrong numbers between 1 to 1000 are: ')\n",
    "\n",
    "for i in range(1,1001):\n",
    "    r=0\n",
    "    b=i\n",
    "    s=0\n",
    "    while b!=0:\n",
    "        r=b%10\n",
    "        s=s+(r*r*r)\n",
    "        b=math.floor(b/10)\n",
    "    if (s==i):\n",
    "        print(i)\n",
    "   "
   ]
  },
  {
   "cell_type": "markdown",
   "metadata": {},
   "source": [
    "# 10.\tWrite a python program which iterates the integers from 1 to 100. For multiples of three print \"Fizz\" instead of the number and print \"Buzz\" for the multiples of five. When number is divided by both three and five, print \"fizz buzz\".\n"
   ]
  },
  {
   "cell_type": "code",
   "execution_count": 5,
   "metadata": {},
   "outputs": [
    {
     "name": "stdout",
     "output_type": "stream",
     "text": [
      "1\n",
      "2\n",
      "Fizz\n",
      "4\n",
      "Buzz\n",
      "Fizz\n",
      "7\n",
      "8\n",
      "Fizz\n",
      "Buzz\n",
      "11\n",
      "Fizz\n",
      "13\n",
      "14\n",
      "fizz buzz\n",
      "16\n",
      "17\n",
      "Fizz\n",
      "19\n",
      "Buzz\n",
      "Fizz\n",
      "22\n",
      "23\n",
      "Fizz\n",
      "Buzz\n",
      "26\n",
      "Fizz\n",
      "28\n",
      "29\n",
      "fizz buzz\n",
      "31\n",
      "32\n",
      "Fizz\n",
      "34\n",
      "Buzz\n",
      "Fizz\n",
      "37\n",
      "38\n",
      "Fizz\n",
      "Buzz\n",
      "41\n",
      "Fizz\n",
      "43\n",
      "44\n",
      "fizz buzz\n",
      "46\n",
      "47\n",
      "Fizz\n",
      "49\n",
      "Buzz\n",
      "Fizz\n",
      "52\n",
      "53\n",
      "Fizz\n",
      "Buzz\n",
      "56\n",
      "Fizz\n",
      "58\n",
      "59\n",
      "fizz buzz\n",
      "61\n",
      "62\n",
      "Fizz\n",
      "64\n",
      "Buzz\n",
      "Fizz\n",
      "67\n",
      "68\n",
      "Fizz\n",
      "Buzz\n",
      "71\n",
      "Fizz\n",
      "73\n",
      "74\n",
      "fizz buzz\n",
      "76\n",
      "77\n",
      "Fizz\n",
      "79\n",
      "Buzz\n",
      "Fizz\n",
      "82\n",
      "83\n",
      "Fizz\n",
      "Buzz\n",
      "86\n",
      "Fizz\n",
      "88\n",
      "89\n",
      "fizz buzz\n",
      "91\n",
      "92\n",
      "Fizz\n",
      "94\n",
      "Buzz\n",
      "Fizz\n",
      "97\n",
      "98\n",
      "Fizz\n",
      "Buzz\n"
     ]
    }
   ],
   "source": [
    "for i in range(1,101):\n",
    "    if (i%3==0 and i%5==0):\n",
    "        print('fizz buzz')\n",
    "    elif (i%3==0):\n",
    "        print('Fizz')\n",
    "    elif (i%5==0):\n",
    "        print('Buzz')\n",
    "    else:\n",
    "        print(i)"
   ]
  },
  {
   "cell_type": "markdown",
   "metadata": {},
   "source": [
    "# 11.\tSpider Problem: A spider present at the bottom of the well of height H, needs to get out of it, using the slippery wall of the well. It decides to climb up the well; it goes up U meters and slips down D meters in one single step. So, in each step it covers (U-D) meters, and if the spider gets out of the well by covering U meters in the last step it doesn’t a slip back. For example, if the spider climbs up 5 meters and slips down by 3 meters in a single step, it covers (U - D) m in each step and 96 m in 48 steps, but in the 49th step it climbs up 5 m and reaches out of the well and it will not slip down and the step is counted as one step.     "
   ]
  },
  {
   "cell_type": "code",
   "execution_count": 3,
   "metadata": {},
   "outputs": [
    {
     "name": "stdout",
     "output_type": "stream",
     "text": [
      "Enter the height of well: 200\n",
      "Enter the distance it goes: 50\n",
      "Enter the distance it slips: 15\n",
      "6\n"
     ]
    }
   ],
   "source": [
    "h=int(input(\"Enter the height of well: \"))\n",
    "u=int(input(\"Enter the distance it goes: \"))\n",
    "d=int(input(\"Enter the distance it slips: \"))\n",
    "DIST=0\n",
    "STEPS=0\n",
    "while(True):\n",
    "    DIST=DIST+u\n",
    "    STEPS+=1\n",
    "    if DIST>h:\n",
    "        break\n",
    "    DIST-=d\n",
    "print(STEPS)"
   ]
  },
  {
   "cell_type": "code",
   "execution_count": null,
   "metadata": {},
   "outputs": [],
   "source": []
  }
 ],
 "metadata": {
  "kernelspec": {
   "display_name": "Python 3",
   "language": "python",
   "name": "python3"
  },
  "language_info": {
   "codemirror_mode": {
    "name": "ipython",
    "version": 3
   },
   "file_extension": ".py",
   "mimetype": "text/x-python",
   "name": "python",
   "nbconvert_exporter": "python",
   "pygments_lexer": "ipython3",
   "version": "3.7.7"
  }
 },
 "nbformat": 4,
 "nbformat_minor": 4
}
